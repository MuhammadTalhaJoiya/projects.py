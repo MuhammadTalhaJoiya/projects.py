{
 "cells": [
  {
   "cell_type": "code",
   "execution_count": 1,
   "id": "8fac69df",
   "metadata": {},
   "outputs": [
    {
     "name": "stdout",
     "output_type": "stream",
     "text": [
      "We have total 5 question in todays show\n",
      "(1)Karachi (2)Lahore (3)Multan (4)Faislabad\n",
      "Which is the most populated city of Pakistans\n",
      "Please select right option\n",
      "(1)Markhor (2)Sheep (3)Tiger (4)Wolf\n",
      "Tell me the name of national animal of Pakistan?s\n",
      "invalid literal for int() with base 10: 's'\n"
     ]
    }
   ],
   "source": [
    "print('We have total 5 question in todays show')\n",
    "while True:\n",
    "    print('(1)Karachi','(2)Lahore','(3)Multan','(4)Faislabad')\n",
    "    try:\n",
    "        a=int(input('Which is the most populated city of Pakistan'))\n",
    "    except Exception as a:\n",
    "        print('Please select right option')\n",
    "    else:\n",
    "        if(a==1):\n",
    "            print('Right answere\\nyou wins 100$')\n",
    "        else:\n",
    "            print('Wrong answere')\n",
    "    l2=print('(1)Markhor','(2)Sheep','(3)Tiger','(4)Wolf')\n",
    "    try:\n",
    "        b=int(input('Tell me the name of national animal of Pakistan?'))\n",
    "    except Exception as e:\n",
    "        print(str(e))\n",
    "    else:\n",
    "        if(b==1):\n",
    "            print('You are right\\nYou had won 200$')\n",
    "        else:\n",
    "            print('You are wrong')\n",
    "    break"
   ]
  },
  {
   "cell_type": "code",
   "execution_count": 12,
   "id": "148f852a",
   "metadata": {},
   "outputs": [
    {
     "name": "stdout",
     "output_type": "stream",
     "text": [
      "national animal of Pakistan\n",
      "(a)Markhor,(b)Goat,(c)Wolf,Tigera\n",
      "Correct\n",
      "dsasa\n",
      "national sports of Pakistan\n",
      "(a)Markhor,(b)Goat,(c)Wolf,Tigersa\n",
      "Wrong\n",
      "dsaas\n"
     ]
    }
   ],
   "source": [
    "ques=['national animal of Pakistan','national sports of Pakistan']\n",
    "for i in range(len(ques)):\n",
    "    print(ques[i])\n",
    "    a=input('(a)Markhor,(b)Goat,(c)Wolf,Tiger')\n",
    "    if(a=='a'):\n",
    "        print('Correct')\n",
    "    else:\n",
    "        print('Wrong')\n",
    "    b=input('dsa')"
   ]
  },
  {
   "cell_type": "code",
   "execution_count": null,
   "id": "44f7cb35",
   "metadata": {},
   "outputs": [],
   "source": []
  },
  {
   "cell_type": "code",
   "execution_count": null,
   "id": "c5d1f1de",
   "metadata": {},
   "outputs": [],
   "source": []
  }
 ],
 "metadata": {
  "kernelspec": {
   "display_name": "Python 3 (ipykernel)",
   "language": "python",
   "name": "python3"
  },
  "language_info": {
   "codemirror_mode": {
    "name": "ipython",
    "version": 3
   },
   "file_extension": ".py",
   "mimetype": "text/x-python",
   "name": "python",
   "nbconvert_exporter": "python",
   "pygments_lexer": "ipython3",
   "version": "3.9.12"
  }
 },
 "nbformat": 4,
 "nbformat_minor": 5
}
