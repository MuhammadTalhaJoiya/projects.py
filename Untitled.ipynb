{
 "cells": [
  {
   "cell_type": "code",
   "execution_count": 1,
   "id": "8fac69df",
   "metadata": {},
   "outputs": [
    {
     "name": "stdout",
     "output_type": "stream",
     "text": [
      "We have total 5 question in todays show\n",
      "(1)Karachi (2)Lahore (3)Multan (4)Faislabad\n",
      "Which is the most populated city of Pakistans\n",
      "Please select right option\n",
      "(1)Markhor (2)Sheep (3)Tiger (4)Wolf\n",
      "Tell me the name of national animal of Pakistan?s\n",
      "invalid literal for int() with base 10: 's'\n"
     ]
    }
   ],
   "source": [
    "print('We have total 5 question in todays show')\n",
    "while True:\n",
    "    print('(1)Karachi','(2)Lahore','(3)Multan','(4)Faislabad')\n",
    "    try:\n",
    "        a=int(input('Which is the most populated city of Pakistan'))\n",
    "    except Exception as a:\n",
    "        print('Please select right option')\n",
    "    else:\n",
    "        if(a==1):\n",
    "            print('Right answere\\nyou wins 100$')\n",
    "        else:\n",
    "            print('Wrong answere')\n",
    "    l2=print('(1)Markhor','(2)Sheep','(3)Tiger','(4)Wolf')\n",
    "    try:\n",
    "        b=int(input('Tell me the name of national animal of Pakistan?'))\n",
    "    except Exception as e:\n",
    "        print(str(e))\n",
    "    else:\n",
    "        if(b==1):\n",
    "            print('You are right\\nYou had won 200$')\n",
    "        else:\n",
    "            print('You are wrong')\n",
    "    break"
   ]
  },
  {
   "cell_type": "code",
   "execution_count": 15,
   "id": "148f852a",
   "metadata": {},
   "outputs": [
    {
     "name": "stdout",
     "output_type": "stream",
     "text": [
      "question for 1000\n",
      "national animal of Pakistan\n",
      "(1)Markhor,(2)Goat,(3)Wolf,Tiger2\n",
      "Wrong\n",
      "question for 2000\n",
      "national sports of Pakistan\n",
      "(1)Football,(2)Rugby,(3)Cricket,(4)Vollyball1\n",
      "You lost\n"
     ]
    }
   ],
   "source": [
    "ques=['national animal of Pakistan','national sports of Pakistan']\n",
    "price=[1000,2000]\n",
    "for i in range(0,1):\n",
    "    print(f'question for {price[0]}\\n{ques[0]}')\n",
    "    try:\n",
    "        a=int(input('(1)Markhor,(2)Goat,(3)Wolf,Tiger'))\n",
    "    except Exception as e:\n",
    "        print(str(e))\n",
    "    else:\n",
    "        if(a==1):\n",
    "            print('Correct')\n",
    "        else:\n",
    "            print('Wrong')\n",
    "    print(f'question for {price[1]}\\n{ques[1]}')\n",
    "    try:\n",
    "        b=int(input('(1)Football,(2)Rugby,(3)Cricket,(4)Vollyball'))\n",
    "    except Exception as e:\n",
    "        print(str(e))\n",
    "    else:\n",
    "        if(b==3):\n",
    "            print('you won 2000$')\n",
    "        else:\n",
    "            print('You lost')"
   ]
  },
  {
   "cell_type": "code",
   "execution_count": 8,
   "id": "97f62276",
   "metadata": {},
   "outputs": [
    {
     "name": "stdout",
     "output_type": "stream",
     "text": [
      "['as', 'asd', 'ewr']\n",
      "['as', 'asd', 'ewr']\n",
      "['as', 'asd', 'ewr']\n"
     ]
    }
   ],
   "source": [
    "a=['as','asd','ewr']\n",
    "for i in a:\n",
    "#     print(a[0])\n",
    "#     print(i)\n",
    "    print(a)"
   ]
  },
  {
   "cell_type": "code",
   "execution_count": null,
   "id": "9d58af6e",
   "metadata": {},
   "outputs": [],
   "source": []
  }
 ],
 "metadata": {
  "kernelspec": {
   "display_name": "Python 3 (ipykernel)",
   "language": "python",
   "name": "python3"
  },
  "language_info": {
   "codemirror_mode": {
    "name": "ipython",
    "version": 3
   },
   "file_extension": ".py",
   "mimetype": "text/x-python",
   "name": "python",
   "nbconvert_exporter": "python",
   "pygments_lexer": "ipython3",
   "version": "3.9.12"
  }
 },
 "nbformat": 4,
 "nbformat_minor": 5
}
